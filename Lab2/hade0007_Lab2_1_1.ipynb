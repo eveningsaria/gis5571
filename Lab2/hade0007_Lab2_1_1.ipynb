{
 "cells": [
  {
   "cell_type": "code",
   "execution_count": 2,
   "metadata": {},
   "outputs": [],
   "source": [
    "#begin with imports\n",
    "import os\n",
    "import requests\n",
    "import arcpy\n",
    "\n",
    "#set up arcpro project, map, and coordinate system\n",
    "project = arcpy.mp.ArcGISProject(\"CURRENT\")\n",
    "map = project.listMaps()[0]\n",
    "ref = arcpy.SpatialReference(4326) #using WGS 1983"
   ]
  },
  {
   "cell_type": "code",
   "execution_count": 3,
   "metadata": {},
   "outputs": [
    {
     "name": "stdout",
     "output_type": "stream",
     "text": [
      "Output directory is already assigned to:  C:\\ArcGIS\\Projects\\Lab2_Part1\n"
     ]
    }
   ],
   "source": [
    "#set up output path where everything is saved\n",
    "outputPath = r\"C:\\ArcGIS\\Projects\\Lab2_Part1\\PRISM\"\n",
    "\n",
    "#but i only want to make it if it does not already exist\n",
    "if not os.path.exists(outputPath):\n",
    "    os.makedirs(outputPath)\n",
    "    print(\"Created output directory: \", outputPath)\n",
    "else:\n",
    "    print(\"Output directory is already assigned to: \", outputPath)"
   ]
  },
  {
   "cell_type": "code",
   "execution_count": 4,
   "metadata": {},
   "outputs": [
    {
     "name": "stdout",
     "output_type": "stream",
     "text": [
      ".LAS already downloaded to:  C:\\ArcGIS\\Projects\\Lab2_Part1\\4342_12_06.las\n"
     ]
    }
   ],
   "source": [
    "#the url i will get my data from\n",
    "url = 'https://services.nacse.org/prism/data/public/normals/4km/ppt/14'\n",
    "#where i will save my url to\n",
    "urlPath = os.path.join(outputPath, '30yr_normal_4kmM4')\n",
    "\n",
    "#download the .las file if it isn't already downloaded using requests.get\n",
    "if not os.path.exists(urlPath):\n",
    "    response = requests.get(url)\n",
    "    if response.status_code == 200: #if it downloads successfully (HTTP code 200)\n",
    "        with open(urlPath, 'wb') as zip_file:\n",
    "            zip_file.write(response.content)\n",
    "        print(\"Downloaded .ZIP file to: \", urlPath)\n",
    "    else: #if it does not download\n",
    "        print(\"Failed to download .ZIP file. Status code: \", response.status_code)\n",
    "else:\n",
    "    print(\".ZIP already downloaded to: \", urlPath)"
   ]
  },
  {
   "cell_type": "code",
   "execution_count": 5,
   "metadata": {},
   "outputs": [
    {
     "name": "stdout",
     "output_type": "stream",
     "text": [
      "LASD already exists at:  C:\\ArcGIS\\Projects\\Lab2_Part1\\4342_12_06.lasd\n"
     ]
    }
   ],
   "source": [
    "#must unzip the file and add data to my map\n",
    "#where i will save the .bil\n",
    "bilPath = os.path.join(outputPath, '30yr_normal_4kmM4.bil')\n",
    "\n",
    "#create .bil if it hasn't already been created\n",
    "if not os.path.exists(bilPath):\n",
    "    arcpy.management.CreateLasDataset(urlPath, bilPath, spatial_reference=ref)\n",
    "    print(\"Converted to LASD: \", bilPath)\n",
    "else:\n",
    "    print(\"LASD already exists at: \", bilPath)"
   ]
  },
  {
   "cell_type": "code",
   "execution_count": 6,
   "metadata": {},
   "outputs": [
    {
     "name": "stdout",
     "output_type": "stream",
     "text": [
      "DEM file already exists at:  C:\\ArcGIS\\Projects\\Lab2_Part1\\DEM_4342_12_06.tif\n"
     ]
    }
   ],
   "source": [
    "#converting .lasd to DEM\n",
    "#it wasn't working for me until i cleared the environment\n",
    "arcpy.env.workspace = None\n",
    "arcpy.env.overwriteOutput = True\n",
    "\n",
    "#where i will save my DEM\n",
    "demPath = os.path.join(outputPath, 'DEM_4342_12_06')\n",
    "\n",
    "#create DEM if it hasn't already been created\n",
    "if not os.path.exists(demPath):\n",
    "    arcpy.env.workspace = outputPath  #reset environment workspace\n",
    "    arcpy.conversion.LasDatasetToRaster( #parameters from esri techical support\n",
    "        lasdPath, demPath, \n",
    "        value_field=\"ELEVATION\", \n",
    "        interpolation_type=\"BINNING AVERAGE NATURAL_NEIGHBOR\", \n",
    "        data_type=\"FLOAT\", \n",
    "        sampling_type=\"CELLSIZE\", \n",
    "        sampling_value=2\n",
    "    )\n",
    "    if os.path.exists(demPath): #success\n",
    "        print(\"Created DEM: \", demPath)\n",
    "    else: #failure\n",
    "        print(\"DEM creation failed.\")\n",
    "else:\n",
    "    print(\"DEM file already exists at: \", demPath)"
   ]
  },
  {
   "cell_type": "code",
   "execution_count": 7,
   "metadata": {
    "scrolled": false
   },
   "outputs": [
    {
     "name": "stdout",
     "output_type": "stream",
     "text": [
      "TIN file already exists at:  C:\\ArcGIS\\Projects\\Lab2_Part1\\TIN_4342_12_06\n"
     ]
    }
   ],
   "source": [
    "#converting .lasd to TIN\n",
    "#where i will save my TIN\n",
    "tinPath = os.path.join(outputPath, 'TIN_4342_12_06')\n",
    "\n",
    "#create TIN if it hasn't already been created using try/except loop for fun\n",
    "if not os.path.exists(tinPath):\n",
    "    try: #success\n",
    "        arcpy.ddd.LasDatasetToTin(lasdPath, tinPath, 'WINDOW_SIZE')\n",
    "        print(\"Created TIN: \", tinPath)\n",
    "\n",
    "    except: #failure\n",
    "        print(\"Failed to create TIN. ArcPy error message:\")\n",
    "        print(arcpy.ExecuteError)\n",
    "else:\n",
    "    print(\"TIN file already exists at: \", tinPath)"
   ]
  },
  {
   "cell_type": "code",
   "execution_count": 38,
   "metadata": {},
   "outputs": [
    {
     "name": "stdout",
     "output_type": "stream",
     "text": [
      "Created PDF of DEM layer:  C:\\ArcGIS\\Projects\\Lab2_Part1\\DEM_4342_12_06.pdf\n"
     ]
    }
   ],
   "source": [
    "#outputting PDF of DEM layer\n",
    "\n",
    "demPDF = os.path.join(outputPath, 'DEM_4342_12_06.pdf') #where i will save my .pdf\n",
    "demLayer = map.listLayers('DEM_4342_12_06')[0] #define layer i want to display\n",
    "dmap = project.createMap(\"DEM Map\") #make new map\n",
    "dmap.addLayer(map.listLayers('DEM_4342_12_06')[0])  #add DEM layer to new map\n",
    "demLayer = dmap.listLayers('DEM_4342_12_06')[0] #reassign demLayer to make sure it is correct\n",
    "dlayout = project.createLayout(8.5, 11, 'INCH') #make new layout\n",
    "\n",
    "#make a map frame using polygon geometry with a 0.5 inch border\n",
    "envCoordList = [[0.5, 10.5], [8, 10.5], [8, 0.5], [0.5, 0.5], [0.5, 10.5]]\n",
    "envArray = arcpy.Array([arcpy.Point(*coords) for coords in envCoordList])\n",
    "polygon = arcpy.Polygon(envArray)\n",
    "map_frame = dlayout.createMapFrame(polygon, dmap)\n",
    "map_frame.camera.setExtent(map_frame.getLayerExtent(demLayer, False, True)) #set map frame to layer extent\n",
    "\n",
    "#export layout to PDF\n",
    "dlayout.exportToPDF(\n",
    "    out_pdf = demPDF,\n",
    "    output_as_image = True, #needed to make the file size smaller so i turned the layer into a compressed image\n",
    "    image_quality = 'NORMAL'\n",
    ")\n",
    "\n",
    "if os.path.exists(demPDF): #success\n",
    "    print(\"Created PDF of DEM layer: \", demPDF)\n",
    "else: #failure\n",
    "    print(\"PDF creation failed.\")"
   ]
  },
  {
   "cell_type": "code",
   "execution_count": 39,
   "metadata": {},
   "outputs": [
    {
     "name": "stdout",
     "output_type": "stream",
     "text": [
      "Created PDF of TIN layer:  C:\\ArcGIS\\Projects\\Lab2_Part1\\TIN_4342_12_06.pdf\n"
     ]
    }
   ],
   "source": [
    "#outputting PDF of TIN layer\n",
    "\n",
    "tinPDF = os.path.join(outputPath, 'TIN_4342_12_06.pdf') #where i will save my .pdf\n",
    "tinLayer = map.listLayers('TIN_4342_12_06')[0] #define layer i want to display\n",
    "tmap = project.createMap(\"TIN Map\") #make new map\n",
    "tmap.addLayer(map.listLayers('TIN_4342_12_06')[0])  #add TIN layer to the new map\n",
    "tinLayer = tmap.listLayers('TIN_4342_12_06')[0] #reassign tinLayer to make sure it is correct\n",
    "tlayout = project.createLayout(8.5, 11, 'INCH') #make new layout\n",
    "\n",
    "\n",
    "#make new map frame with polygon geometry and 0.5 inch border\n",
    "envCoordList = [[0.5, 10.5], [8, 10.5], [8, 0.5], [0.5, 0.5], [0.5, 10.5]]\n",
    "envArray = arcpy.Array([arcpy.Point(*coords) for coords in envCoordList])\n",
    "polygon = arcpy.Polygon(envArray)\n",
    "map_frame = tlayout.createMapFrame(polygon, tmap)\n",
    "map_frame.camera.setExtent(map_frame.getLayerExtent(tinLayer, False, True))\n",
    "\n",
    "#export layout to PDF\n",
    "tlayout.exportToPDF(\n",
    "    out_pdf = tinPDF,\n",
    "    output_as_image = True, #needed to make the file size smaller so i turned the layer into a compressed image\n",
    "    image_quality = 'NORMAL'\n",
    ")\n",
    "\n",
    "if os.path.exists(tinPDF): #success\n",
    "    print(\"Created PDF of TIN layer: \", tinPDF)\n",
    "else: #failure\n",
    "    print(\"PDF creation failed.\")"
   ]
  }
 ],
 "metadata": {
  "kernelspec": {
   "display_name": "ArcGISPro",
   "language": "Python",
   "name": "python3"
  },
  "language_info": {
   "file_extension": ".py",
   "name": "python",
   "version": "3"
  }
 },
 "nbformat": 4,
 "nbformat_minor": 2
}
