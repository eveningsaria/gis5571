{
 "cells": [
  {
   "cell_type": "markdown",
   "metadata": {},
   "source": [
    "## Evening Hade, Lab 2, Part 1, Step 3\n",
    "### *Creating a Space Time Cube* </br>\n",
    "#### For GIS 5571\n",
    "#### 25 October 2024"
   ]
  },
  {
   "cell_type": "code",
   "execution_count": null,
   "metadata": {},
   "outputs": [],
   "source": [
    "#begin with imports\n",
    "import os\n",
    "import requests\n",
    "import arcpy\n",
    "import zipfile\n",
    "\n",
    "#set up arcpro project, map, and coordinate system\n",
    "project = arcpy.mp.ArcGISProject(\"CURRENT\")\n",
    "map = project.listMaps()[0]\n",
    "ref = arcpy.SpatialReference(4326) #using WGS 1983"
   ]
  },
  {
   "cell_type": "code",
   "execution_count": 2,
   "metadata": {},
   "outputs": [
    {
     "name": "stdout",
     "output_type": "stream",
     "text": [
      "Output directory is already assigned to:  C:\\ArcGIS\\Projects\\Lab2_Part1\\PRISM\n"
     ]
    }
   ],
   "source": [
    "#set up output path where everything is saved\n",
    "outputPath = r\"C:\\ArcGIS\\Projects\\Lab2_Part1\\PRISM\"\n",
    "#but i only want to make it if it does not already exist\n",
    "if not os.path.exists(outputPath):\n",
    "    os.makedirs(outputPath)\n",
    "    print(\"Created output directory: \", outputPath)\n",
    "else:\n",
    "    print(\"Output directory is already assigned to: \", outputPath)"
   ]
  },
  {
   "cell_type": "code",
   "execution_count": 3,
   "metadata": {},
   "outputs": [
    {
     "name": "stdout",
     "output_type": "stream",
     "text": [
      "ZIP file for month 1 already downloaded.\n",
      "ZIP file for month 2 already downloaded.\n",
      "ZIP file for month 3 already downloaded.\n",
      "ZIP file for month 4 already downloaded.\n",
      "ZIP file for month 5 already downloaded.\n",
      "ZIP file for month 6 already downloaded.\n",
      "ZIP file for month 7 already downloaded.\n",
      "ZIP file for month 8 already downloaded.\n",
      "ZIP file for month 9 already downloaded.\n",
      "ZIP file for month 10 already downloaded.\n",
      "ZIP file for month 11 already downloaded.\n",
      "ZIP file for month 12 already downloaded.\n"
     ]
    }
   ],
   "source": [
    "#base url we will add to\n",
    "baseUrl = 'https://services.nacse.org/prism/data/public/normals/4km/ppt/'\n",
    "\n",
    "#for loop to add the correct endpoint to the url and download all the data\n",
    "for month in range(1, 13):\n",
    "    url = f\"{baseUrl}{month}\" #format variable as string (cool fancy trick 10/10)\n",
    "    zipPath = os.path.join(outputPath, f\"PRISM_ppt_month{month}.zip\")\n",
    "    \n",
    "    #download ZIP file if it hasn't been downloaded\n",
    "    if not os.path.exists(zipPath):\n",
    "        response = requests.get(url)\n",
    "        if response.status_code == 200: #success\n",
    "            with open(zipPath, 'wb') as zipFile:\n",
    "                zipFile.write(response.content)\n",
    "            print(f\"Downloaded ZIP file for month {month} to: \", zipPath)\n",
    "        else: #error\n",
    "            print(f\"Failed to download ZIP file for month {month}. Status code: \", response.status_code)\n",
    "    else:\n",
    "        print(f\"ZIP file for month {month} already downloaded.\")"
   ]
  },
  {
   "cell_type": "code",
   "execution_count": null,
   "metadata": {},
   "outputs": [],
   "source": [
    "#ONLY RUN ME ONCE\n",
    "\n",
    "#unzip files\n",
    "    with zipfile.ZipFile(zip_path, 'r') as zip_ref:\n",
    "        zip_ref.extractall(outputPath)\n",
    "    print(f\"Extracted files for month {month} to: \", outputPath)\n",
    "\n",
    "#DO NOT RUN IF ALREADY ADDED TO MAP"
   ]
  },
  {
   "cell_type": "code",
   "execution_count": 11,
   "metadata": {
    "scrolled": true
   },
   "outputs": [
    {
     "name": "stdout",
     "output_type": "stream",
     "text": [
      "GDB already exists at:  C:\\ArcGIS\\Projects\\Lab2_Part1\\PRISM\\PRISM_MosaicDataset.gdb\n",
      "Mosaic dataset already exists at:  C:\\ArcGIS\\Projects\\Lab2_Part1\\PRISM\\PRISM_MosaicDataset.gdb\\PRISM_Mosaic\n"
     ]
    },
    {
     "data": {
      "text/html": [
       "<div class='gpresult'><h2>Messages</h2><div id='messages'>Start Time: Wednesday, October 30, 2024 4:09:57 PM<br>2024-10-30T16:09:58.043: Loading raster datasets<br>2024-10-30T16:09:58.060: Completed crawling 13 data source items. Added 13 mosaic dataset items.<br>2024-10-30T16:09:58.065: Synchronizing crawled data source items<br>2024-10-30T16:09:58.070: Synchronizing items associated with raster type instance &#39;Raster Dataset&#39; [ID: 12].<br>2024-10-30T16:09:58.225: Completed synchronization: 13 items selected, 13 items synchronized.<br>2024-10-30T16:09:58.232: Computing cell size levels<br>2024-10-30T16:09:58.232: Computing unique cell size values<br>2024-10-30T16:09:58.305: Computing maximum cell size values<br>2024-10-30T16:09:58.308: Computing minimum cell size values<br>2024-10-30T16:09:58.311: Updating visibility values of selected items<br>2024-10-30T16:09:58.324: Computing maximum cell size for mosaic dataset<br>2024-10-30T16:09:58.333: Completed computing cell size ranges.<br>2024-10-30T16:09:58.353: Completed building boundary.<br>Succeeded at Wednesday, October 30, 2024 4:09:59 PM (Elapsed Time: 2.20 seconds)<br></div><div id = 'default' /></div></div>"
      ],
      "text/plain": [
       "<Result 'C:\\\\ArcGIS\\\\Projects\\\\Lab2_Part1\\\\PRISM\\\\PRISM_MosaicDataset.gdb\\\\PRISM_Mosaic'>"
      ]
     },
     "execution_count": 11,
     "metadata": {},
     "output_type": "execute_result"
    }
   ],
   "source": [
    "#create gdb to save mosaic to if it doesn't exist\n",
    "gdbPath = os.path.join(outputPath, \"PRISM_MosaicDataset.gdb\")\n",
    "if not arcpy.Exists(gdbPath):\n",
    "    arcpy.CreateFileGDB_management(outputPath, \"PRISM_MosaicDataset.gdb\")\n",
    "    print(\"Created geodatabase:\", gdbPath)\n",
    "else:\n",
    "    print(\"GDB already exists at: \", gdbPath)\n",
    "\n",
    "#create and save mosaic dataset if it doesn't exist\n",
    "mosaicPath = os.path.join(outputPath, \"PRISM_MosaicDataset.gdb\", \"PRISM_Mosaic\")\n",
    "if not arcpy.Exists(mosaicPath):\n",
    "    arcpy.CreateMosaicDataset_management(gdbPath, \"PRISM_Mosaic\", ref)\n",
    "    print(\"Created mosaic dataset:\", mosaicPath)\n",
    "else:\n",
    "    print(\"Mosaic dataset already exists at: \", mosaicPath)\n",
    "\n",
    "#add BILs to the mosaic dataset\n",
    "bil = [os.path.join(outputPath, f) for f in os.listdir(outputPath) if f.endswith(\".bil\")]\n",
    "arcpy.management.AddRastersToMosaicDataset(mosaicPath, \"Raster Dataset\", bil)"
   ]
  },
  {
   "cell_type": "code",
   "execution_count": 10,
   "metadata": {},
   "outputs": [
    {
     "ename": "RuntimeError",
     "evalue": "The value type is incompatible with the field type. [StdTime]",
     "output_type": "error",
     "traceback": [
      "\u001b[0;31m---------------------------------------------------------------------------\u001b[0m\n\u001b[0;31mRuntimeError\u001b[0m                              Traceback (most recent call last)",
      "In  \u001b[0;34m[10]\u001b[0m:\nLine \u001b[0;34m11\u001b[0m:    cursor.updateRow(row)\u001b[37m\u001b[39;49;00m\n",
      "\u001b[0;31mRuntimeError\u001b[0m: The value type is incompatible with the field type. [StdTime]\n\u001b[0;31m---------------------------------------------------------------------------\u001b[0m"
     ]
    }
   ],
   "source": [
    "if not arcpy.ListFields(mosaicPath, \"StdTime\"): #apparently \"StdTime\" is a standard variable name. i tried \"Month\" and it didn't work. but that also may have been unrelated\n",
    "    arcpy.AddField_management(mosaicPath, \"StdTime\", \"DATE\")\n",
    "    print(\"Added StdTime field to mosaic dataset.\")\n",
    "\n",
    "#OBJECTID aligns with month order because the files appear alphabetically in the folder and were added in that order to the mosaic\n",
    "#so i will determine the month of the year based on the OBJECTID\n",
    "with arcpy.da.UpdateCursor(mosaicPath, [\"OBJECTID\", \"StdTime\"]) as cursor:\n",
    "    for row in cursor:\n",
    "        month = row[0]\n",
    "        row[1] = f\"2024-{month:02d}-01\"  #set date as first day of month\n",
    "        cursor.updateRow(row)\n",
    "print(\"Populated StdTime field.\")\n",
    "\n",
    "#for some reason i get an error message but it also worked?\n",
    "#maybe it worked in a previous code iteration and i didn't notice?\n",
    "#anyway, i am too nervous to change it"
   ]
  },
  {
   "cell_type": "code",
   "execution_count": 7,
   "metadata": {},
   "outputs": [
    {
     "data": {
      "text/html": [
       "<div class='gpresult'><h2>Messages</h2><div id='messages'>Start Time: Wednesday, October 30, 2024 3:44:21 PM<br>Succeeded at Wednesday, October 30, 2024 3:44:23 PM (Elapsed Time: 2.20 seconds)<br></div><div id = 'default' /></div></div>"
      ],
      "text/plain": [
       "<Result 'PRISM_Mosaic_Multi'>"
      ]
     },
     "execution_count": 7,
     "metadata": {},
     "output_type": "execute_result"
    }
   ],
   "source": [
    "#define time dimension so our raster has multiple dimensions. you could say it is multidimensional, even.\n",
    "arcpy.md.BuildMultidimensionalInfo(\n",
    "    in_mosaic_dataset=mosaicPath,\n",
    "    variable_field=\"Variable\",\n",
    "    dimension_fields=\"StdTime\", #define month as the time dimension\n",
    "    delete_multidimensional_info=\"NO_DELETE_MULTIDIMENSIONAL_INFO\"\n",
    ")\n",
    "\n",
    "#make multidimensional raster layer\n",
    "arcpy.md.MakeMultidimensionalRasterLayer(\n",
    "    in_multidimensional_raster=mosaicPath,\n",
    "    out_multidimensional_raster_layer=\"PRISM_Mosaic_Multi\",\n",
    "    variables=\"Dataset\",\n",
    "    dimension_def=\"ALL\",\n",
    "    dimension=\"StdTime\" #reset month as time dimension\n",
    ")\n",
    "\n",
    "#these functions are both copied from the Esri website"
   ]
  },
  {
   "cell_type": "code",
   "execution_count": 8,
   "metadata": {},
   "outputs": [
    {
     "name": "stdout",
     "output_type": "stream",
     "text": [
      "Space-time cube created successfully at:  C:\\ArcGIS\\Projects\\Lab2_Part1\\PRISM\\PRISM_SpaceTimeCube\n"
     ]
    }
   ],
   "source": [
    "#ONLY RUN ME ONCE\n",
    "\n",
    "#where i will export my space time cube\n",
    "cubePath = os.path.join(outputPath, \"PRISM_SpaceTimeCube\")\n",
    "#now make the space time cube...\n",
    "#or try\n",
    "#it spent days crashing for me before i finally got it\n",
    "# :P\n",
    "try: #success\n",
    "    arcpy.stpm.CreateSpaceTimeCubeMDRasterLayer(\n",
    "        in_md_raster=\"PRISM_Mosaic_Multi\",\n",
    "        output_cube=cubePath,\n",
    "        fill_empty_bins=\"ZERO\"\n",
    "    )\n",
    "    print(\"Space-time cube created successfully at: \", cubePath)\n",
    "except Exception as e: #error\n",
    "    print(\"Error creating space-time cube: \", e)\n",
    "\n",
    "#DO NOT RUN IT W*I*L*L* BRICK YOUR COMPUTER"
   ]
  },
  {
   "cell_type": "code",
   "execution_count": null,
   "metadata": {},
   "outputs": [],
   "source": []
  }
 ],
 "metadata": {
  "kernelspec": {
   "display_name": "ArcGISPro",
   "language": "Python",
   "name": "python3"
  },
  "language_info": {
   "file_extension": ".py",
   "name": "python",
   "version": "3"
  }
 },
 "nbformat": 4,
 "nbformat_minor": 2
}
