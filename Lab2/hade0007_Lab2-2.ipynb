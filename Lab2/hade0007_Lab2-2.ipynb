{
 "cells": [
  {
   "cell_type": "code",
   "execution_count": 1,
   "metadata": {},
   "outputs": [
    {
     "name": "stdout",
     "output_type": "stream",
     "text": [
      "Output directory is already assigned to:  C:\\ArcGIS\\Projects\\Lab2-2\n"
     ]
    }
   ],
   "source": [
    "#Imports\n",
    "import os\n",
    "import requests\n",
    "import arcpy\n",
    "import subprocess\n",
    "from zipfile import ZipFile\n",
    "\n",
    "#Initial setup\n",
    "project = arcpy.mp.ArcGISProject(\"CURRENT\")\n",
    "map = project.listMaps()[0]\n",
    "ref = arcpy.SpatialReference(26915)  #NAD zone 15N\n",
    "\n",
    "surfaceUrl = 'https://resources.gisdata.mn.gov/pub/data/elevation/lidar/county/wabasha/laz/' #Elevation data download link\n",
    "landcoverUrl = 'https://resources.gisdata.mn.gov/pub/gdrs/data/pub/us_mn_state_dnr/biota_landcover_nlcd_mn_2016/tif_biota_landcover_nlcd_mn_2016.zip' #Land cover data download link\n",
    "\n",
    "outputPath = r\"C:\\ArcGIS\\Projects\\Lab2-2\" #Where everything is saved\n",
    "if not os.path.exists(outputPath): #Test that outputPath exists\n",
    "    os.makedirs(outputPath)\n",
    "    print(\"Created output directory: \", outputPath)\n",
    "else:\n",
    "    print(\"Output directory is already assigned to: \", outputPath)"
   ]
  },
  {
   "cell_type": "code",
   "execution_count": 2,
   "metadata": {},
   "outputs": [
    {
     "name": "stdout",
     "output_type": "stream",
     "text": [
      "4342-28-61.laz already exists at C:\\ArcGIS\\Projects\\Lab2-2\\4342-28-61.laz\n",
      "4342-28-60.laz already exists at C:\\ArcGIS\\Projects\\Lab2-2\\4342-28-60.laz\n",
      "4342-29-60.laz already exists at C:\\ArcGIS\\Projects\\Lab2-2\\4342-29-60.laz\n",
      "4342-29-61.laz already exists at C:\\ArcGIS\\Projects\\Lab2-2\\4342-29-61.laz\n",
      "laszip.exe already downloaded.\n"
     ]
    }
   ],
   "source": [
    "#LAZ files\n",
    "\n",
    "#Variable names\n",
    "dnrFiles = [ #So named to differentiate from lasFiles\n",
    "    '4342-28-61.laz', '4342-28-60.laz',\n",
    "    '4342-29-60.laz', '4342-29-61.laz'\n",
    "]\n",
    "laszipUrl = surfaceUrl + 'laszip.exe'\n",
    "laszipPath = os.path.join(outputPath, 'laszip.exe')\n",
    "\n",
    "for dnrFile in dnrFiles:\n",
    "    dnrPath = os.path.join(outputPath, dnrFile)\n",
    "    if not os.path.exists(dnrPath):\n",
    "        response = requests.get(surfaceUrl + dnrFile, stream=True)\n",
    "        if response.status_code == 200:\n",
    "            with open(dnrPath, 'wb') as file:\n",
    "                file.write(response.content)\n",
    "            print(f\"Downloaded {dnrFile}\")\n",
    "        else:\n",
    "            print(f\"Failed to download {dnrFile}, status code: {response.status_code}\")\n",
    "    else:\n",
    "        print(f\"{dnrFile} already exists at {dnrPath}\")\n",
    "\n",
    "#Download laszip.exe if not already done\n",
    "if not os.path.exists(laszipPath):\n",
    "    response = requests.get(laszipUrl)\n",
    "    if response.status_code == 200:\n",
    "        with open(laszipPath, 'wb') as file:\n",
    "            file.write(response.content)\n",
    "        print(\"Downloaded laszip.exe\")\n",
    "    else:\n",
    "        print(f\"Failed to download laszip.exe, status code: {response.status_code}\")\n",
    "else:\n",
    "    print(\"laszip.exe already downloaded.\")\n",
    "\n",
    "#Ensure laszip.exe is executable\n",
    "if os.name == 'nt':\n",
    "    os.chmod(laszipPath, 0o755)"
   ]
  },
  {
   "cell_type": "code",
   "execution_count": 3,
   "metadata": {},
   "outputs": [
    {
     "name": "stdout",
     "output_type": "stream",
     "text": [
      "4342-28-61.las already exists.\n",
      "4342-28-60.las already exists.\n",
      "4342-29-60.las already exists.\n",
      "4342-29-61.las already exists.\n"
     ]
    }
   ],
   "source": [
    "#LAS files & LASD DEM\n",
    "lasFiles = [os.path.join(outputPath, file.replace('.laz', '.las')) for file in dnrFiles]\n",
    "lasdPath = os.path.join(outputPath, 'elevation.lasd')\n",
    "demPath = os.path.join(outputPath, 'elevation_DEM')\n",
    "\n",
    "#Unzip .laz files to .las files using laszip\n",
    "def laszip(dnrPath, lasPath):\n",
    "    try:\n",
    "        # Run the laszip command\n",
    "        result = subprocess.run(\n",
    "            [laszipPath, '-i', dnrPath, '-o', lasPath],\n",
    "            capture_output=True, text=True\n",
    "        )\n",
    "\n",
    "        # Check for success or handle warnings/errors\n",
    "        if result.returncode == 0:\n",
    "            print(f\"Successfully unzipped {dnrPath} to {lasPath}\")\n",
    "        else:\n",
    "            print(f\"Failed to unzip {dnrPath}: {result.stderr}\")\n",
    "            print(f\"Command output: {result.stdout}\")\n",
    "\n",
    "    except FileNotFoundError:\n",
    "        print(f\"laszip.exe not found at {laszipPath}\")\n",
    "    except Exception as e:\n",
    "        print(f\"An unexpected error occurred: {e}\")\n",
    "\n",
    "# Check if .las files already exist, otherwise unzip\n",
    "for dnrFile in dnrFiles:\n",
    "    dnrPath = os.path.join(outputPath, dnrFile)\n",
    "    lasPath = os.path.join(outputPath, dnrFile.replace('.laz', '.las'))\n",
    "    \n",
    "    if not os.path.exists(lasPath):\n",
    "        if os.path.exists(dnrPath):\n",
    "            lazip(dnrPath, lasPath)\n",
    "        else:\n",
    "            print(f\"{dnrFile} not found.\")\n",
    "    else:\n",
    "        print(f\"{dnrFile.replace('.laz', '.las')} already exists.\")"
   ]
  },
  {
   "cell_type": "code",
   "execution_count": 4,
   "metadata": {},
   "outputs": [
    {
     "name": "stdout",
     "output_type": "stream",
     "text": [
      "LAS dataset already exists at: C:\\ArcGIS\\Projects\\Lab2-2\\elevation.lasd\n",
      "DEM already exists at: C:\\ArcGIS\\Projects\\Lab2-2\\elevation_DEM\n"
     ]
    }
   ],
   "source": [
    "#Create LAS Dataset if not already created\n",
    "if not os.path.exists(lasdPath):\n",
    "    arcpy.management.CreateLasDataset(lasFiles, lasdPath)\n",
    "    print(f\"Created LAS dataset: {lasdPath}\")\n",
    "else:\n",
    "    print(f\"LAS dataset already exists at: {lasdPath}\")\n",
    "\n",
    "# Convert LASD to DEM\n",
    "if not os.path.exists(demPath):\n",
    "    arcpy.conversion.LasDatasetToRaster(\n",
    "        lasdPath, demPath,\n",
    "        value_field=\"ELEVATION\",\n",
    "        interpolation_type=\"BINNING AVERAGE NATURAL_NEIGHBOR\",\n",
    "        data_type=\"FLOAT\",\n",
    "        sampling_type=\"CELLSIZE\",\n",
    "        sampling_value=2\n",
    "    )\n",
    "    print(f\"Created DEM: {demPath}\")\n",
    "else:\n",
    "    print(f\"DEM already exists at: {demPath}\")"
   ]
  },
  {
   "cell_type": "code",
   "execution_count": 5,
   "metadata": {},
   "outputs": [
    {
     "name": "stdout",
     "output_type": "stream",
     "text": [
      "Land cover ZIP file already exists.\n",
      "Added C:\\ArcGIS\\Projects\\Lab2-2\\NLCD_2016_Land_Cover.tif to the map.\n",
      "Layer land_cover_clip.tif added to the map.\n",
      "Layer NLCD_2016_Land_Cover.tif removed from the map.\n"
     ]
    }
   ],
   "source": [
    "#Land cover raster\n",
    "\n",
    "#Variable names\n",
    "zipPath = os.path.join(outputPath, 'landcover.zip')\n",
    "tifPath = os.path.join(outputPath, 'NLCD_2016_Land_Cover.tif')\n",
    "clipPath = os.path.join(outputPath, 'land_cover_clip.tif')\n",
    "\n",
    "#Download land cover raster\n",
    "if not os.path.exists(zipPath):\n",
    "    response = requests.get(landcoverUrl)\n",
    "    if response.status_code == 200:\n",
    "        with open(zipPath, 'wb') as file:\n",
    "            file.write(response.content)\n",
    "        print(\"Downloaded land cover ZIP file.\")\n",
    "    else:\n",
    "        print(\"Failed to download land cover ZIP file, status code: \", response.status_code)\n",
    "else:\n",
    "    print(\"Land cover ZIP file already exists.\")\n",
    "\n",
    "#Extract the ZIP file\n",
    "if not os.path.exists(os.path.join(outputPath, 'NLCD_2016_Land_Cover.tif')):\n",
    "    with ZipFile(zipPath, 'r') as zip_ref:\n",
    "        zip_ref.extractall(outputPath)\n",
    "        print(\"Extracted all files from the ZIP archive.\")\n",
    "\n",
    "#Check if the raster file exists before trying to add it\n",
    "if os.path.isfile(tifPath):\n",
    "    # Add the raster to the map\n",
    "    map.addDataFromPath(tifPath)\n",
    "    print(f\"Added {tifPath} to the map.\")\n",
    "else:\n",
    "    print(\"Error: The file NLCD_2016_Land_Cover.tif was not found after extraction.\")\n",
    "    \n",
    "#Clip the new raster to the extent of the DEM\n",
    "arcpy.management.Clip(\n",
    "    in_raster=\"NLCD_2016_Land_Cover.tif\",\n",
    "    out_raster=r\"C:\\ArcGIS\\Projects\\Lab2-2\\land_cover_clip.tif\",\n",
    "    in_template_dataset=\"elevation_DEM\",  #Set the extent based on the DEM layer\n",
    "    nodata_value=\"255\",\n",
    "    clipping_geometry=\"NONE\",\n",
    "    maintain_clipping_extent=\"NO_MAINTAIN_EXTENT\"\n",
    ")\n",
    "\n",
    "#Check that clip worked and delete large .tif file\n",
    "for layer in map.listLayers():\n",
    "    if layer.name == \"land_cover_clip.tif\":\n",
    "        print(\"Layer land_cover_clip.tif added to the map.\")\n",
    "    elif layer.name == \"NLCD_2016_Land_Cover.tif\":\n",
    "        map.removeLayer(layer)\n",
    "        print(\"Layer NLCD_2016_Land_Cover.tif removed from the map.\")"
   ]
  },
  {
   "cell_type": "code",
   "execution_count": 6,
   "metadata": {},
   "outputs": [
    {
     "name": "stdout",
     "output_type": "stream",
     "text": [
      "Slope raster successfully saved as: C:\\ArcGIS\\Projects\\Lab2-2\\slope_DEM.tif\n"
     ]
    }
   ],
   "source": [
    "#Create slope raster for cost surface\n",
    "slopePath = os.path.join(outputPath, 'slope_DEM.tif')\n",
    "\n",
    "with arcpy.EnvManager(scratchWorkspace=outputPath):\n",
    "    slope_DEM = arcpy.sa.Slope(\n",
    "        in_raster=\"elevation_DEM\",\n",
    "        output_measurement=\"DEGREE\",\n",
    "        z_factor=1,\n",
    "        method=\"PLANAR\",\n",
    "        z_unit=\"METER\",\n",
    "        analysis_target_device=\"GPU_THEN_CPU\"\n",
    "    )\n",
    "    slope_DEM.save(slopePath)\n",
    "\n",
    "if arcpy.Exists(slopePath):\n",
    "    print(f\"Slope raster successfully saved as: {slopePath}\")\n",
    "else:\n",
    "    print(\"Failed to save the slope raster.\")"
   ]
  },
  {
   "cell_type": "code",
   "execution_count": 10,
   "metadata": {},
   "outputs": [
    {
     "name": "stdout",
     "output_type": "stream",
     "text": [
      "land_cover_weight saved at: C:\\ArcGIS\\Projects\\Lab2-2\\land_cover_weight.tif\n"
     ]
    }
   ],
   "source": [
    "#Make raster where water & fields are weighted\n",
    "land_cover_weight = arcpy.sa.Con(\n",
    "    (arcpy.sa.Raster(clipPath) == 11) | #Water\n",
    "    (arcpy.sa.Raster(clipPath) == 81) | #Pasture\n",
    "    (arcpy.sa.Raster(clipPath) == 82),  #Crops\n",
    "    10, \n",
    "    1\n",
    ")\n",
    "\n",
    "weightPath = os.path.join(outputPath, 'land_cover_weight.tif')\n",
    "land_cover_weight.save(weightPath)\n",
    "\n",
    "print(f\"land_cover_weight saved at: {weightPath}\")"
   ]
  },
  {
   "cell_type": "code",
   "execution_count": 9,
   "metadata": {},
   "outputs": [
    {
     "name": "stdout",
     "output_type": "stream",
     "text": [
      "Cost surface saved at: C:\\ArcGIS\\Projects\\Lab2-2\\cost_surface.tif\n"
     ]
    }
   ],
   "source": [
    "#Make the cost surface\n",
    "costSurface = (arcpy.sa.Raster(slopePath) + arcpy.sa.Raster(weightPath)) / 2\n",
    "\n",
    "costSurfacePath = os.path.join(outputPath, 'cost_surface.tif')\n",
    "costSurface.save(costSurfacePath)\n",
    "\n",
    "print(f\"Cost surface saved at: {costSurfacePath}\")"
   ]
  },
  {
   "cell_type": "code",
   "execution_count": 8,
   "metadata": {},
   "outputs": [
    {
     "name": "stdout",
     "output_type": "stream",
     "text": [
      "Start point feature class already exists.\n",
      "End point feature class already exists.\n"
     ]
    }
   ],
   "source": [
    "#Define start and end points\n",
    "start = arcpy.Point(568098, 4886440) #easting, northing\n",
    "startPath = os.path.join(outputPath, 'start.shp')\n",
    "end = arcpy.Point(570377, 4882902) #Picked a random point in the Whitewater WMA but not in water\n",
    "endPath = os.path.join(outputPath, 'end.shp')\n",
    "\n",
    "#Create the start point feature class if it does not exist\n",
    "if not arcpy.Exists(startPath):\n",
    "    arcpy.management.CreateFeatureclass(outputPath, 'start.shp', 'POINT', spatial_reference=ref)\n",
    "    with arcpy.da.InsertCursor(startPath, ['SHAPE@']) as cursor:\n",
    "        cursor.insertRow([arcpy.PointGeometry(start, ref)])\n",
    "    print(\"Start point feature class created and populated.\")\n",
    "else:\n",
    "    print(\"Start point feature class already exists.\")\n",
    "\n",
    "#Create the end point feature class if it does not exist\n",
    "if not arcpy.Exists(endPath):\n",
    "    arcpy.management.CreateFeatureclass(outputPath, 'end.shp', 'POINT', spatial_reference=ref)\n",
    "    with arcpy.da.InsertCursor(endPath, ['SHAPE@']) as cursor:\n",
    "        cursor.insertRow([arcpy.PointGeometry(end, ref)])\n",
    "    print(\"End point feature class created and populated.\")\n",
    "else:\n",
    "    print(\"End point feature class already exists.\")"
   ]
  },
  {
   "cell_type": "code",
   "execution_count": 15,
   "metadata": {},
   "outputs": [
    {
     "name": "stdout",
     "output_type": "stream",
     "text": [
      "Distance Accumulation raster saved at: C:\\ArcGIS\\Projects\\Lab2-2\\cost_distance.tif\n",
      "Backlink raster saved at: C:\\ArcGIS\\Projects\\Lab2-2\\backlink.tif\n",
      "Optimal Path raster saved at: C:\\ArcGIS\\Projects\\Lab2-2\\optimal_path.tif\n"
     ]
    }
   ],
   "source": [
    "#Paths to necessary files\n",
    "distancePath = os.path.join(outputPath, 'cost_distance.tif')\n",
    "backlinkPath = os.path.join(outputPath, 'backlink.tif')\n",
    "optimalPath = os.path.join(outputPath, 'optimal_path.tif')\n",
    "\n",
    "#Distance accumulation Raster\n",
    "out_distance_accumulation = arcpy.sa.DistanceAccumulation(\n",
    "    in_source_data=startPath,\n",
    "    in_barrier_data=None,\n",
    "    in_surface_raster=slopePath,  #Use slope_DEM raster\n",
    "    in_cost_raster=costSurfacePath,  #Use cost_surface raster\n",
    "    in_vertical_raster=None,\n",
    "    vertical_factor=\"BINARY 1 -30 30\",\n",
    "    in_horizontal_raster=None,\n",
    "    horizontal_factor=\"BINARY 1 45\",\n",
    "    out_back_direction_raster=backlinkPath,  #Save backlink raster\n",
    "    out_source_direction_raster=None,\n",
    "    out_source_location_raster=None,\n",
    "    source_initial_accumulation=None,\n",
    "    source_maximum_accumulation=None,\n",
    "    source_cost_multiplier=None,\n",
    "    source_direction=\"\",\n",
    "    distance_method=\"PLANAR\"\n",
    ")\n",
    "\n",
    "out_distance_accumulation.save(distancePath)\n",
    "print(f\"Distance Accumulation raster saved at: {distancePath}\")\n",
    "print(f\"Backlink raster saved at: {backlinkPath}\")\n",
    "\n",
    "with arcpy.EnvManager(scratchWorkspace=outputPath):\n",
    "    out_path_accumulation_raster = arcpy.sa.OptimalPathAsRaster(\n",
    "        in_destination_data=\"end\",\n",
    "        in_distance_accumulation_raster=\"cost_distance\",\n",
    "        in_back_direction_raster=r\"C:\\ArcGIS\\Projects\\Lab2-2\\backlink.tif\",\n",
    "        destination_field=\"Id\",\n",
    "        path_type=\"BEST_SINGLE\"\n",
    "    )\n",
    "    \n",
    "out_path_accumulation_raster.save(optimalPath)\n",
    "print(f\"Optimal Path raster saved at: {optimalPath}\")"
   ]
  },
  {
   "cell_type": "code",
   "execution_count": null,
   "metadata": {},
   "outputs": [],
   "source": []
  }
 ],
 "metadata": {
  "kernelspec": {
   "display_name": "ArcGISPro",
   "language": "Python",
   "name": "python3"
  },
  "language_info": {
   "file_extension": ".py",
   "name": "python",
   "version": "3"
  }
 },
 "nbformat": 4,
 "nbformat_minor": 2
}
