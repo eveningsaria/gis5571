{
 "cells": [
  {
   "cell_type": "markdown",
   "metadata": {},
   "source": [
    "## Evening Hade\n",
    "### Lab 3, Part 1\n",
    "#### For GIS 5571\n",
    "\n",
    "The majority of this code is the same as that which I used for Part 2 of Lab 2. There will be new code at the end.\n",
    "\n",
    "Well, I guess it's all new because I never turned Lab 2, Part 2 in.\n",
    "\n",
    "The first step of this part of the lab will be to get all my imports, set up my ArcGIS project, get my URLs, and assign an output path:"
   ]
  },
  {
   "cell_type": "code",
   "execution_count": 2,
   "metadata": {},
   "outputs": [
    {
     "name": "stdout",
     "output_type": "stream",
     "text": [
      "Output directory is already assigned to:  C:\\ArcGIS\\Projects\\Lab3-1\n"
     ]
    }
   ],
   "source": [
    "#Imports\n",
    "import os\n",
    "import requests\n",
    "import arcpy\n",
    "import subprocess\n",
    "from zipfile import ZipFile\n",
    "\n",
    "#Initial setup\n",
    "project = arcpy.mp.ArcGISProject(\"CURRENT\")\n",
    "map = project.listMaps()[0]\n",
    "ref = arcpy.SpatialReference(26915)  #NAD zone 15N\n",
    "\n",
    "surfaceUrl = 'https://resources.gisdata.mn.gov/pub/data/elevation/lidar/county/wabasha/laz/' #Elevation data download link\n",
    "landcoverUrl = 'https://resources.gisdata.mn.gov/pub/gdrs/data/pub/us_mn_state_dnr/biota_landcover_nlcd_mn_2016/tif_biota_landcover_nlcd_mn_2016.zip' #Land cover data download link\n",
    "\n",
    "outputPath = r\"C:\\ArcGIS\\Projects\\Lab3-1\" #Where everything is saved\n",
    "if not os.path.exists(outputPath): #Test that outputPath exists\n",
    "    os.makedirs(outputPath)\n",
    "    print(\"Created output directory: \", outputPath)\n",
    "else:\n",
    "    print(\"Output directory is already assigned to: \", outputPath)"
   ]
  },
  {
   "cell_type": "markdown",
   "metadata": {},
   "source": [
    "Now, I will focus on the elevation data from MNDNR's website first.\n",
    "\n",
    "I ended up taking a sub-sample so that my computer could process the data better, so I only downloaded four .laz files.\n",
    "\n",
    "laszip.exe will unzip my .laz files to .las files."
   ]
  },
  {
   "cell_type": "code",
   "execution_count": 3,
   "metadata": {},
   "outputs": [
    {
     "name": "stdout",
     "output_type": "stream",
     "text": [
      "4342-28-61.laz already exists at C:\\ArcGIS\\Projects\\Lab3-1\\4342-28-61.laz\n",
      "4342-28-60.laz already exists at C:\\ArcGIS\\Projects\\Lab3-1\\4342-28-60.laz\n",
      "4342-29-60.laz already exists at C:\\ArcGIS\\Projects\\Lab3-1\\4342-29-60.laz\n",
      "4342-29-61.laz already exists at C:\\ArcGIS\\Projects\\Lab3-1\\4342-29-61.laz\n",
      "laszip.exe already downloaded.\n"
     ]
    }
   ],
   "source": [
    "#LAZ files\n",
    "\n",
    "#Variable names\n",
    "dnrFiles = [ #So named to differentiate from lasFiles\n",
    "    '4342-28-61.laz', '4342-28-60.laz',\n",
    "    '4342-29-60.laz', '4342-29-61.laz'\n",
    "]\n",
    "laszipUrl = surfaceUrl + 'laszip.exe'\n",
    "laszipPath = os.path.join(outputPath, 'laszip.exe')\n",
    "\n",
    "for dnrFile in dnrFiles:\n",
    "    dnrPath = os.path.join(outputPath, dnrFile)\n",
    "    if not os.path.exists(dnrPath):\n",
    "        response = requests.get(surfaceUrl + dnrFile, stream=True)\n",
    "        if response.status_code == 200:\n",
    "            with open(dnrPath, 'wb') as file:\n",
    "                file.write(response.content)\n",
    "            print(f\"Downloaded {dnrFile}\")\n",
    "        else:\n",
    "            print(f\"Failed to download {dnrFile}, status code: {response.status_code}\")\n",
    "    else:\n",
    "        print(f\"{dnrFile} already exists at {dnrPath}\")\n",
    "\n",
    "#Download laszip.exe if not already done\n",
    "if not os.path.exists(laszipPath):\n",
    "    response = requests.get(laszipUrl)\n",
    "    if response.status_code == 200:\n",
    "        with open(laszipPath, 'wb') as file:\n",
    "            file.write(response.content)\n",
    "        print(\"Downloaded laszip.exe\")\n",
    "    else:\n",
    "        print(f\"Failed to download laszip.exe, status code: {response.status_code}\")\n",
    "else:\n",
    "    print(\"laszip.exe already downloaded.\")\n",
    "\n",
    "#Ensure laszip.exe is executable\n",
    "if os.name == 'nt':\n",
    "    os.chmod(laszipPath, 0o755)"
   ]
  },
  {
   "cell_type": "code",
   "execution_count": 4,
   "metadata": {},
   "outputs": [
    {
     "name": "stdout",
     "output_type": "stream",
     "text": [
      "4342-28-61.las already exists.\n",
      "4342-28-60.las already exists.\n",
      "4342-29-60.las already exists.\n",
      "4342-29-61.las already exists.\n"
     ]
    }
   ],
   "source": [
    "#LAS files & LASD DEM\n",
    "lasFiles = [os.path.join(outputPath, file.replace('.laz', '.las')) for file in dnrFiles]\n",
    "lasdPath = os.path.join(outputPath, 'elevation.lasd')\n",
    "demPath = os.path.join(outputPath, 'elevation_DEM')\n",
    "\n",
    "#Unzip .laz files to .las files using laszip\n",
    "def laszip(dnrPath, lasPath):\n",
    "    try:\n",
    "        # Run the laszip command\n",
    "        result = subprocess.run(\n",
    "            [laszipPath, '-i', dnrPath, '-o', lasPath],\n",
    "            stdout=subprocess.PIPE,\n",
    "            stderr=subprocess.PIPE,\n",
    "            text=True\n",
    "        )\n",
    "        # Capture stdout and stderr\n",
    "        if result.returncode == 0:\n",
    "            print(f\"Successfully unzipped {dnrPath} to {lasPath}\")\n",
    "        else:\n",
    "            print(f\"Error unzipping {dnrPath}:\\n{result.stderr}\")\n",
    "    except FileNotFoundError:\n",
    "        print(f\"laszip.exe not found at {laszipPath}\")\n",
    "    except Exception as e:\n",
    "        print(f\"An unexpected error occurred: {e}\")\n",
    "\n",
    "# Check if .las files already exist, otherwise unzip\n",
    "for dnrFile in dnrFiles:\n",
    "    dnrPath = os.path.join(outputPath, dnrFile)\n",
    "    lasPath = os.path.join(outputPath, dnrFile.replace('.laz', '.las'))\n",
    "    \n",
    "    if not os.path.exists(lasPath):\n",
    "        if os.path.exists(dnrPath):\n",
    "            laszip(dnrPath, lasPath)\n",
    "        else:\n",
    "            print(f\"{dnrFile} not found.\")\n",
    "    else:\n",
    "        print(f\"{dnrFile.replace('.laz', '.las')} already exists.\")"
   ]
  },
  {
   "cell_type": "markdown",
   "metadata": {},
   "source": [
    "In order for me to get this data on my map, I need to make an LAS dataset:"
   ]
  },
  {
   "cell_type": "code",
   "execution_count": 5,
   "metadata": {},
   "outputs": [
    {
     "name": "stdout",
     "output_type": "stream",
     "text": [
      "LAS dataset already exists at: C:\\ArcGIS\\Projects\\Lab3-1\\elevation.lasd\n",
      "DEM already exists at: C:\\ArcGIS\\Projects\\Lab3-1\\elevation_DEM\n"
     ]
    }
   ],
   "source": [
    "#Create LAS Dataset if not already created\n",
    "if not os.path.exists(lasdPath):\n",
    "    arcpy.management.CreateLasDataset(lasFiles, lasdPath)\n",
    "    print(f\"Created LAS dataset: {lasdPath}\")\n",
    "else:\n",
    "    print(f\"LAS dataset already exists at: {lasdPath}\")\n",
    "\n",
    "# Convert LASD to DEM\n",
    "if not os.path.exists(demPath):\n",
    "    arcpy.conversion.LasDatasetToRaster(\n",
    "        lasdPath, demPath,\n",
    "        value_field=\"ELEVATION\",\n",
    "        interpolation_type=\"BINNING AVERAGE NATURAL_NEIGHBOR\",\n",
    "        data_type=\"FLOAT\",\n",
    "        sampling_type=\"CELLSIZE\",\n",
    "        sampling_value=2\n",
    "    )\n",
    "    print(f\"Created DEM: {demPath}\")\n",
    "else:\n",
    "    print(f\"DEM already exists at: {demPath}\")"
   ]
  },
  {
   "cell_type": "markdown",
   "metadata": {},
   "source": [
    "The next section of this part of the lab has to do with the land cover raster I will use to identify water & fields.\n",
    "\n",
    "Same as before, I need to download and unzip the data.\n",
    "\n",
    "Then, I am going to clip the data to my project extent, since this data covers the whole of the State of Minnesota."
   ]
  },
  {
   "cell_type": "code",
   "execution_count": 6,
   "metadata": {},
   "outputs": [
    {
     "name": "stdout",
     "output_type": "stream",
     "text": [
      "Land cover ZIP file already exists.\n",
      "The land cover TIF file already exists.\n",
      "Added C:\\ArcGIS\\Projects\\Lab3-1\\NLCD_2016_Land_Cover.tif to the map.\n",
      "Layer NLCD_2016_Land_Cover.tif removed from the map.\n",
      "Layer land_cover_clip.tif added to the map.\n"
     ]
    }
   ],
   "source": [
    "#Land cover raster\n",
    "\n",
    "#Variable names\n",
    "zipPath = os.path.join(outputPath, 'landcover.zip')\n",
    "tifPath = os.path.join(outputPath, 'NLCD_2016_Land_Cover.tif')\n",
    "clipPath = os.path.join(outputPath, 'land_cover_clip.tif')\n",
    "\n",
    "#Download land cover raster\n",
    "if not os.path.exists(zipPath):\n",
    "    response = requests.get(landcoverUrl)\n",
    "    if response.status_code == 200:\n",
    "        with open(zipPath, 'wb') as file:\n",
    "            file.write(response.content)\n",
    "        print(\"Downloaded land cover ZIP file.\")\n",
    "    else:\n",
    "        print(\"Failed to download land cover ZIP file, status code: \", response.status_code)\n",
    "else:\n",
    "    print(\"Land cover ZIP file already exists.\")\n",
    "\n",
    "#Extract the ZIP file\n",
    "if not os.path.exists(tifPath):\n",
    "    with ZipFile(zipPath, 'r') as zip_ref:\n",
    "        zip_ref.extractall(outputPath)\n",
    "        print(\"Extracted all files from the ZIP archive.\")\n",
    "else:\n",
    "    print(\"The land cover TIF file already exists.\")\n",
    "\n",
    "#Check if the raster file exists before trying to add it\n",
    "if os.path.isfile(tifPath):\n",
    "    # Add the raster to the map\n",
    "    map.addDataFromPath(tifPath)\n",
    "    print(f\"Added {tifPath} to the map.\")\n",
    "else:\n",
    "    print(\"Error: The file NLCD_2016_Land_Cover.tif was not found after extraction.\")\n",
    "    \n",
    "#Clip the new raster to the extent of the DEM\n",
    "if not os.path.exists(clipPath):\n",
    "    arcpy.management.Clip(\n",
    "        in_raster=\"NLCD_2016_Land_Cover.tif\",\n",
    "        out_raster=r\"C:\\ArcGIS\\Projects\\Lab3-1\\land_cover_clip.tif\",\n",
    "        in_template_dataset=\"elevation_DEM\",  #Set the extent based on the DEM layer\n",
    "        nodata_value=\"255\",\n",
    "        clipping_geometry=\"NONE\",\n",
    "        maintain_clipping_extent=\"NO_MAINTAIN_EXTENT\"\n",
    "    )\n",
    "\n",
    "#Check that clip worked and delete large .tif file\n",
    "for layer in map.listLayers():\n",
    "    if layer.name == \"land_cover_clip.tif\":\n",
    "        print(\"Layer land_cover_clip.tif added to the map.\")\n",
    "    elif layer.name == \"NLCD_2016_Land_Cover.tif\":\n",
    "        map.removeLayer(layer)\n",
    "        print(\"Layer NLCD_2016_Land_Cover.tif removed from the map.\")"
   ]
  },
  {
   "cell_type": "markdown",
   "metadata": {},
   "source": [
    "Now I will work on creating the parts of my optimal path analysis. First is a slope raster.\n",
    "\n",
    "Next, I will make a raster where water & fields are flagged as different than other types of land cover. I did change this from my original code to include wetlands, because otherwise, there would be very little water and it wouldn't be much fun to play with.\n",
    "\n",
    "Then, I will put the two rasters together to make a cost surface."
   ]
  },
  {
   "cell_type": "code",
   "execution_count": 7,
   "metadata": {},
   "outputs": [
    {
     "name": "stdout",
     "output_type": "stream",
     "text": [
      "Slope raster successfully saved as: C:\\ArcGIS\\Projects\\Lab3-1\\slope_DEM.tif\n"
     ]
    }
   ],
   "source": [
    "#Create slope raster for cost surface\n",
    "slopePath = os.path.join(outputPath, 'slope_DEM.tif')\n",
    "\n",
    "with arcpy.EnvManager(scratchWorkspace=outputPath):\n",
    "    slope_DEM = arcpy.sa.Slope(\n",
    "        in_raster=\"elevation_DEM\",\n",
    "        output_measurement=\"DEGREE\",\n",
    "        z_factor=1,\n",
    "        method=\"PLANAR\",\n",
    "        z_unit=\"METER\",\n",
    "        analysis_target_device=\"GPU_THEN_CPU\"\n",
    "    )\n",
    "    slope_DEM.save(slopePath)\n",
    "\n",
    "if arcpy.Exists(slopePath):\n",
    "    print(f\"Slope raster successfully saved as: {slopePath}\")\n",
    "else:\n",
    "    print(\"Failed to save the slope raster.\")"
   ]
  },
  {
   "cell_type": "code",
   "execution_count": 26,
   "metadata": {},
   "outputs": [
    {
     "name": "stdout",
     "output_type": "stream",
     "text": [
      "equal_land_weight saved at: C:\\ArcGIS\\Projects\\Lab3-1\\equal_land_weight.tif\n"
     ]
    }
   ],
   "source": [
    "#Make raster where water & fields are EQUALLY weighted\n",
    "equal_land_weight = arcpy.sa.Con(\n",
    "    (arcpy.sa.Raster(clipPath) == 11) | #Water\n",
    "    (arcpy.sa.Raster(clipPath) == 90) | #Wetlands\n",
    "    (arcpy.sa.Raster(clipPath) == 81) | #Pasture\n",
    "    (arcpy.sa.Raster(clipPath) == 82),  #Crops\n",
    "    10, \n",
    "    1\n",
    ")\n",
    "\n",
    "weightPath = os.path.join(outputPath, 'equal_land_weight.tif')\n",
    "equal_land_weight.save(weightPath)\n",
    "\n",
    "print(f\"equal_land_weight saved at: {weightPath}\")"
   ]
  },
  {
   "cell_type": "code",
   "execution_count": 27,
   "metadata": {},
   "outputs": [
    {
     "name": "stdout",
     "output_type": "stream",
     "text": [
      "Cost surface saved at: C:\\ArcGIS\\Projects\\Lab3-1\\equal_surface.tif\n"
     ]
    }
   ],
   "source": [
    "#Make a cost surface where ALL VALUES ARE EQUAL\n",
    "equalSurface = (arcpy.sa.Raster(slopePath) + arcpy.sa.Raster(weightPath)) / 2\n",
    "\n",
    "equalSurfacePath = os.path.join(outputPath, 'equal_surface.tif')\n",
    "equalSurface.save(equalSurfacePath)\n",
    "\n",
    "print(f\"Cost surface saved at: {equalSurfacePath}\")"
   ]
  },
  {
   "cell_type": "markdown",
   "metadata": {},
   "source": [
    "Finally, I need to make my least cost path.\n",
    "\n",
    "I had a lot of trouble here until I realized that Esri created a new tool called \"Optimal Path As Raster\". to replace the least cost path analysis.\n",
    "\n",
    "The process is the same: define start and end points, create a distance accumulation raster from the start point, and create an optimal path from the end point."
   ]
  },
  {
   "cell_type": "code",
   "execution_count": 28,
   "metadata": {},
   "outputs": [
    {
     "name": "stdout",
     "output_type": "stream",
     "text": [
      "Start point feature class already exists.\n",
      "End point feature class already exists.\n"
     ]
    }
   ],
   "source": [
    "#Define start and end points\n",
    "start = arcpy.Point(568098, 4886440) #easting, northing\n",
    "startPath = os.path.join(outputPath, 'start.shp')\n",
    "end = arcpy.Point(570377, 4882902) #Picked a random point in the Whitewater WMA but not in water\n",
    "endPath = os.path.join(outputPath, 'end.shp')\n",
    "\n",
    "#Create the start point feature class if it does not exist\n",
    "if not arcpy.Exists(startPath):\n",
    "    arcpy.management.CreateFeatureclass(outputPath, 'start.shp', 'POINT', spatial_reference=ref)\n",
    "    with arcpy.da.InsertCursor(startPath, ['SHAPE@']) as cursor:\n",
    "        cursor.insertRow([arcpy.PointGeometry(start, ref)])\n",
    "    print(\"Start point feature class created and populated.\")\n",
    "else:\n",
    "    print(\"Start point feature class already exists.\")\n",
    "\n",
    "#Create the end point feature class if it does not exist\n",
    "if not arcpy.Exists(endPath):\n",
    "    arcpy.management.CreateFeatureclass(outputPath, 'end.shp', 'POINT', spatial_reference=ref)\n",
    "    with arcpy.da.InsertCursor(endPath, ['SHAPE@']) as cursor:\n",
    "        cursor.insertRow([arcpy.PointGeometry(end, ref)])\n",
    "    print(\"End point feature class created and populated.\")\n",
    "else:\n",
    "    print(\"End point feature class already exists.\")"
   ]
  },
  {
   "cell_type": "code",
   "execution_count": 29,
   "metadata": {},
   "outputs": [
    {
     "name": "stdout",
     "output_type": "stream",
     "text": [
      "Distance Accumulation raster saved at: C:\\ArcGIS\\Projects\\Lab3-1\\cost_distance.tif\n",
      "Backlink raster saved at: C:\\ArcGIS\\Projects\\Lab3-1\\backlink.tif\n",
      "Optimal Path raster saved at: C:\\ArcGIS\\Projects\\Lab3-1\\out_path_all_equal.tif\n"
     ]
    }
   ],
   "source": [
    "#Paths to necessary files\n",
    "distancePath = os.path.join(outputPath, 'cost_distance.tif')\n",
    "backlinkPath = os.path.join(outputPath, 'backlink.tif')\n",
    "equalPath = os.path.join(outputPath, 'out_path_all_equal.tif')\n",
    "\n",
    "#Distance accumulation Raster\n",
    "cost_distance = arcpy.sa.DistanceAccumulation(\n",
    "    in_source_data=startPath,\n",
    "    in_barrier_data=None,\n",
    "    in_surface_raster=slopePath,  #Use slope_DEM raster\n",
    "    in_cost_raster=equalSurfacePath,  #Use equal_surface raster\n",
    "    in_vertical_raster=None,\n",
    "    vertical_factor=\"BINARY 1 -30 30\",\n",
    "    in_horizontal_raster=None,\n",
    "    horizontal_factor=\"BINARY 1 45\",\n",
    "    out_back_direction_raster=backlinkPath,  #Save backlink raster\n",
    "    out_source_direction_raster=None,\n",
    "    out_source_location_raster=None,\n",
    "    source_initial_accumulation=None,\n",
    "    source_maximum_accumulation=None,\n",
    "    source_cost_multiplier=None,\n",
    "    source_direction=\"\",\n",
    "    distance_method=\"PLANAR\"\n",
    ")\n",
    "\n",
    "cost_distance.save(distancePath)\n",
    "print(f\"Distance Accumulation raster saved at: {distancePath}\")\n",
    "print(f\"Backlink raster saved at: {backlinkPath}\")\n",
    "\n",
    "with arcpy.EnvManager(scratchWorkspace=outputPath):\n",
    "    out_path_all_equal = arcpy.sa.OptimalPathAsRaster(\n",
    "        in_destination_data=endPath,\n",
    "        in_distance_accumulation_raster=distancePath,\n",
    "        in_back_direction_raster=backlinkPath,\n",
    "        destination_field=\"Id\",\n",
    "        path_type=\"BEST_SINGLE\"\n",
    "    )\n",
    "    \n",
    "out_path_all_equal.save(equalPath)\n",
    "print(f\"Optimal Path raster saved at: {equalPath}\")"
   ]
  },
  {
   "cell_type": "markdown",
   "metadata": {},
   "source": [
    "#### But that's only the optimal path if Dory weights all her categories the same.\n",
    "\n",
    "Let's explore what would happen if we gave certain categories different weights.\n",
    "\n",
    "To start with, Dory is wearing waders. Let's say she really doesn't care all that much about the water; she just want s to stay away from fields and steep slopes.\n",
    "\n",
    "First, we'll need to make a new raster where water & fields are weighted differently. I'm naming my variables after water since that is the category we are manipulating."
   ]
  },
  {
   "cell_type": "code",
   "execution_count": 30,
   "metadata": {},
   "outputs": [
    {
     "name": "stdout",
     "output_type": "stream",
     "text": [
      "low_water_weight saved at: C:\\ArcGIS\\Projects\\Lab3-1\\low_water_weight.tif\n",
      "Cost surface saved at: C:\\ArcGIS\\Projects\\Lab3-1\\water_surface.tif\n"
     ]
    }
   ],
   "source": [
    "#Make a cost surface where avoiding water is not a priority\n",
    "\n",
    "#Make raster where fields are higher weighted than water\n",
    "low_water_weight = arcpy.sa.Con(\n",
    "    arcpy.sa.Raster(clipPath) == 11, #Water\n",
    "    5, #Assign low weight\n",
    "    arcpy.sa.Con(\n",
    "        arcpy.sa.Raster(clipPath) == 90,  #Wetlands\n",
    "        5,\n",
    "        arcpy.sa.Con(\n",
    "            arcpy.sa.Raster(clipPath) == 81,  #Pasture\n",
    "            10,  #Assign higher weight\n",
    "                arcpy.sa.Con(\n",
    "                    arcpy.sa.Raster(clipPath) == 82,  #Crops\n",
    "                    10,\n",
    "                    1  #Default weight for other land cover types\n",
    "                )\n",
    "            )\n",
    "        )\n",
    "    )\n",
    "\n",
    "weightPath = os.path.join(outputPath, 'low_water_weight.tif')\n",
    "low_water_weight.save(weightPath)\n",
    "\n",
    "print(f\"low_water_weight saved at: {weightPath}\")\n",
    "\n",
    "waterSurface = (arcpy.sa.Raster(slopePath) + arcpy.sa.Raster(weightPath)) / 2\n",
    "\n",
    "waterSurfacePath = os.path.join(outputPath, 'water_surface.tif')\n",
    "waterSurface.save(waterSurfacePath)\n",
    "\n",
    "print(f\"Cost surface saved at: {waterSurfacePath}\")"
   ]
  },
  {
   "cell_type": "markdown",
   "metadata": {},
   "source": [
    "Okay, now let's make an optimal path using this cost surface where Dory cares less about water than she does about fields:"
   ]
  },
  {
   "cell_type": "code",
   "execution_count": 31,
   "metadata": {},
   "outputs": [
    {
     "name": "stdout",
     "output_type": "stream",
     "text": [
      "Distance Accumulation raster saved at: C:\\ArcGIS\\Projects\\Lab3-1\\cost_distance.tif\n",
      "Backlink raster saved at: C:\\ArcGIS\\Projects\\Lab3-1\\backlink.tif\n",
      "Optimal Path raster saved at: C:\\ArcGIS\\Projects\\Lab3-1\\out_path_low_water.tif\n"
     ]
    }
   ],
   "source": [
    "#Paths to necessary files\n",
    "distancePath = os.path.join(outputPath, 'cost_distance.tif')\n",
    "backlinkPath = os.path.join(outputPath, 'backlink.tif')\n",
    "waterPath = os.path.join(outputPath, 'out_path_low_water.tif')\n",
    "\n",
    "#Distance accumulation Raster\n",
    "cost_distance = arcpy.sa.DistanceAccumulation(\n",
    "    in_source_data=startPath,\n",
    "    in_barrier_data=None,\n",
    "    in_surface_raster=slopePath,  #Use slope_DEM raster\n",
    "    in_cost_raster=waterSurfacePath,  #Use water_surface raster\n",
    "    in_vertical_raster=None,\n",
    "    vertical_factor=\"BINARY 1 -30 30\",\n",
    "    in_horizontal_raster=None,\n",
    "    horizontal_factor=\"BINARY 1 45\",\n",
    "    out_back_direction_raster=backlinkPath,  #Save backlink raster\n",
    "    out_source_direction_raster=None,\n",
    "    out_source_location_raster=None,\n",
    "    source_initial_accumulation=None,\n",
    "    source_maximum_accumulation=None,\n",
    "    source_cost_multiplier=None,\n",
    "    source_direction=\"\",\n",
    "    distance_method=\"PLANAR\"\n",
    ")\n",
    "\n",
    "cost_distance.save(distancePath)\n",
    "print(f\"Distance Accumulation raster saved at: {distancePath}\")\n",
    "print(f\"Backlink raster saved at: {backlinkPath}\")\n",
    "\n",
    "with arcpy.EnvManager(scratchWorkspace=outputPath):\n",
    "    out_path_low_water = arcpy.sa.OptimalPathAsRaster(\n",
    "        in_destination_data=endPath,\n",
    "        in_distance_accumulation_raster=distancePath,\n",
    "        in_back_direction_raster=backlinkPath,\n",
    "        destination_field=\"Id\",\n",
    "        path_type=\"BEST_SINGLE\"\n",
    "    )\n",
    "    \n",
    "out_path_low_water.save(waterPath)\n",
    "print(f\"Optimal Path raster saved at: {waterPath}\")"
   ]
  },
  {
   "cell_type": "markdown",
   "metadata": {},
   "source": [
    "Now, what if all the fields have fences around them, and Dory cares most about not having to hop fences over avoiding water and steep slopes.\n",
    "\n",
    "We already have the land cover raster where fields are weighted higher than water bodies, so we can skip that step and move on to the cost surface:"
   ]
  },
  {
   "cell_type": "code",
   "execution_count": 34,
   "metadata": {},
   "outputs": [
    {
     "name": "stdout",
     "output_type": "stream",
     "text": [
      "Cost surface saved at: C:\\ArcGIS\\Projects\\Lab3-1\\field_surface.tif\n"
     ]
    }
   ],
   "source": [
    "#Make a cost surface where avoiding fields is THE priority\n",
    "\n",
    "fieldSurface = (arcpy.sa.Raster(slopePath) + (2 * arcpy.sa.Raster(weightPath))) / 3\n",
    "\n",
    "fieldSurfacePath = os.path.join(outputPath, 'field_surface.tif')\n",
    "fieldSurface.save(fieldSurfacePath)\n",
    "\n",
    "print(f\"Cost surface saved at: {fieldSurfacePath}\")"
   ]
  },
  {
   "cell_type": "code",
   "execution_count": 35,
   "metadata": {},
   "outputs": [
    {
     "name": "stdout",
     "output_type": "stream",
     "text": [
      "Distance Accumulation raster saved at: C:\\ArcGIS\\Projects\\Lab3-1\\cost_distance.tif\n",
      "Backlink raster saved at: C:\\ArcGIS\\Projects\\Lab3-1\\backlink.tif\n",
      "Optimal Path raster saved at: C:\\ArcGIS\\Projects\\Lab3-1\\out_path_high_fields.tif\n"
     ]
    }
   ],
   "source": [
    "#Paths to necessary files\n",
    "distancePath = os.path.join(outputPath, 'cost_distance.tif')\n",
    "backlinkPath = os.path.join(outputPath, 'backlink.tif')\n",
    "fieldPath = os.path.join(outputPath, 'out_path_high_fields.tif')\n",
    "\n",
    "#Distance accumulation Raster\n",
    "cost_distance = arcpy.sa.DistanceAccumulation(\n",
    "    in_source_data=startPath,\n",
    "    in_barrier_data=None,\n",
    "    in_surface_raster=slopePath,  #Use slope_DEM raster\n",
    "    in_cost_raster=fieldSurfacePath,  #Use field_surface raster\n",
    "    in_vertical_raster=None,\n",
    "    vertical_factor=\"BINARY 1 -30 30\",\n",
    "    in_horizontal_raster=None,\n",
    "    horizontal_factor=\"BINARY 1 45\",\n",
    "    out_back_direction_raster=backlinkPath,  #Save backlink raster\n",
    "    out_source_direction_raster=None,\n",
    "    out_source_location_raster=None,\n",
    "    source_initial_accumulation=None,\n",
    "    source_maximum_accumulation=None,\n",
    "    source_cost_multiplier=None,\n",
    "    source_direction=\"\",\n",
    "    distance_method=\"PLANAR\"\n",
    ")\n",
    "\n",
    "cost_distance.save(distancePath)\n",
    "print(f\"Distance Accumulation raster saved at: {distancePath}\")\n",
    "print(f\"Backlink raster saved at: {backlinkPath}\")\n",
    "\n",
    "with arcpy.EnvManager(scratchWorkspace=outputPath):\n",
    "    out_path_high_fields = arcpy.sa.OptimalPathAsRaster(\n",
    "        in_destination_data=endPath,\n",
    "        in_distance_accumulation_raster=distancePath,\n",
    "        in_back_direction_raster=backlinkPath,\n",
    "        destination_field=\"Id\",\n",
    "        path_type=\"BEST_SINGLE\"\n",
    "    )\n",
    "    \n",
    "out_path_high_fields.save(fieldPath)\n",
    "print(f\"Optimal Path raster saved at: {fieldPath}\")"
   ]
  },
  {
   "cell_type": "markdown",
   "metadata": {},
   "source": [
    "Okay, now for our third (fourth) optimal path, what if we introduced a new land cover type? Let's say that if there is a road, Dory does NOT want to walk on it, because I don't know, the weatherman said the risk of tractor stampede is high today. With that, Dory also does NOT want to walk down steep hills, and that's going to be weighted higher than anything else.\n",
    "\n",
    "First, we need a new weighting scheme for land cover:"
   ]
  },
  {
   "cell_type": "code",
   "execution_count": 40,
   "metadata": {},
   "outputs": [
    {
     "name": "stdout",
     "output_type": "stream",
     "text": [
      "road_weight saved at: C:\\ArcGIS\\Projects\\Lab3-1\\road_weight.tif\n",
      "Cost surface saved at: C:\\ArcGIS\\Projects\\Lab3-1\\road_surface.tif\n"
     ]
    }
   ],
   "source": [
    "#Make a cost surface where avoiding roads and slopes are priorities\n",
    "\n",
    "#Make raster that includes roads\n",
    "road_weight = arcpy.sa.Con(\n",
    "    arcpy.sa.Raster(clipPath) == 21, #Open asphalt\n",
    "    10, #Assign high weight\n",
    "    arcpy.sa.Con(\n",
    "        arcpy.sa.Raster(clipPath) == 22, #Low intensity road... if I were being thorough I would include all road types, but this is the only road type in the study area\n",
    "        10,\n",
    "        arcpy.sa.Con(\n",
    "            arcpy.sa.Raster(clipPath) == 11, #Water\n",
    "            5, #Assign low weight just cause it makes sense to me\n",
    "            arcpy.sa.Con(\n",
    "                arcpy.sa.Raster(clipPath) == 90,  #Wetlands\n",
    "                5,\n",
    "                arcpy.sa.Con(\n",
    "                    arcpy.sa.Raster(clipPath) == 81,  #Pasture\n",
    "                    10,  #Assign higher weight\n",
    "                        arcpy.sa.Con(\n",
    "                        arcpy.sa.Raster(clipPath) == 82,  #Crops\n",
    "                        10,\n",
    "                        1  #Default weight for other land cover types\n",
    "                        )\n",
    "                    )\n",
    "                )\n",
    "            )\n",
    "        )\n",
    "    ) #That's a lot of parentheses\n",
    "\n",
    "weightPath = os.path.join(outputPath, 'road_weight.tif')\n",
    "road_weight.save(weightPath)\n",
    "\n",
    "print(f\"road_weight saved at: {weightPath}\")\n",
    "\n",
    "roadSurface = ((arcpy.sa.Raster(slopePath) * 3) + (arcpy.sa.Raster(weightPath) * 2)) / 5 #Where slope is highly weighted\n",
    "\n",
    "roadSurfacePath = os.path.join(outputPath, 'road_surface.tif')\n",
    "roadSurface.save(roadSurfacePath)\n",
    "\n",
    "print(f\"Cost surface saved at: {roadSurfacePath}\")"
   ]
  },
  {
   "cell_type": "code",
   "execution_count": 41,
   "metadata": {},
   "outputs": [
    {
     "name": "stdout",
     "output_type": "stream",
     "text": [
      "Distance Accumulation raster saved at: C:\\ArcGIS\\Projects\\Lab3-1\\cost_distance.tif\n",
      "Backlink raster saved at: C:\\ArcGIS\\Projects\\Lab3-1\\backlink.tif\n",
      "Optimal Path raster saved at: C:\\ArcGIS\\Projects\\Lab3-1\\out_path_roads_slopes.tif\n"
     ]
    }
   ],
   "source": [
    "#Paths to necessary files\n",
    "distancePath = os.path.join(outputPath, 'cost_distance.tif')\n",
    "backlinkPath = os.path.join(outputPath, 'backlink.tif')\n",
    "roadPath = os.path.join(outputPath, 'out_path_roads_slopes.tif')\n",
    "\n",
    "#Distance accumulation Raster\n",
    "cost_distance = arcpy.sa.DistanceAccumulation(\n",
    "    in_source_data=startPath,\n",
    "    in_barrier_data=None,\n",
    "    in_surface_raster=slopePath,  #Use slope_DEM raster\n",
    "    in_cost_raster=roadSurfacePath,  #Use field_surface raster\n",
    "    in_vertical_raster=None,\n",
    "    vertical_factor=\"BINARY 1 -30 30\",\n",
    "    in_horizontal_raster=None,\n",
    "    horizontal_factor=\"BINARY 1 45\",\n",
    "    out_back_direction_raster=backlinkPath,  #Save backlink raster\n",
    "    out_source_direction_raster=None,\n",
    "    out_source_location_raster=None,\n",
    "    source_initial_accumulation=None,\n",
    "    source_maximum_accumulation=None,\n",
    "    source_cost_multiplier=None,\n",
    "    source_direction=\"\",\n",
    "    distance_method=\"PLANAR\"\n",
    ")\n",
    "\n",
    "cost_distance.save(distancePath)\n",
    "print(f\"Distance Accumulation raster saved at: {distancePath}\")\n",
    "print(f\"Backlink raster saved at: {backlinkPath}\")\n",
    "\n",
    "with arcpy.EnvManager(scratchWorkspace=outputPath):\n",
    "    out_path_roads_slopes = arcpy.sa.OptimalPathAsRaster(\n",
    "        in_destination_data=endPath,\n",
    "        in_distance_accumulation_raster=distancePath,\n",
    "        in_back_direction_raster=backlinkPath,\n",
    "        destination_field=\"Id\",\n",
    "        path_type=\"BEST_SINGLE\"\n",
    "    )\n",
    "    \n",
    "out_path_roads_slopes.save(roadPath)\n",
    "print(f\"Optimal Path raster saved at: {roadPath}\")"
   ]
  },
  {
   "cell_type": "markdown",
   "metadata": {},
   "source": [
    "### That's all, folks!"
   ]
  }
 ],
 "metadata": {
  "kernelspec": {
   "display_name": "ArcGISPro",
   "language": "Python",
   "name": "python3"
  },
  "language_info": {
   "file_extension": ".py",
   "name": "python",
   "version": "3"
  }
 },
 "nbformat": 4,
 "nbformat_minor": 2
}
